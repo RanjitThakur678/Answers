{
 "cells": [
  {
   "cell_type": "code",
   "execution_count": 22,
   "id": "every-pioneer",
   "metadata": {},
   "outputs": [
    {
     "data": {
      "text/plain": [
       "{1: 'he', 2: 'she', 3: 'li'}"
      ]
     },
     "execution_count": 22,
     "metadata": {},
     "output_type": "execute_result"
    }
   ],
   "source": [
    "def create_dict(k, v): #taking two lists of key and values of diff length as arguments\n",
    "\n",
    "    if len(k)>len(v): \n",
    "        #checking len of list to append accordingly\n",
    "        \n",
    "        for i in range(len(k)):\n",
    "            \n",
    "            v.append(None) # if len of list with value is less we fill it with None \n",
    "            \n",
    "    for j in range(len(k)):\n",
    "\n",
    "        return dict(zip(k,v)) #zipping both the key and value together into a dictionary\n",
    "    \n",
    "create_dict([1,2,3],['he','she','li','mi'])"
   ]
  },
  {
   "cell_type": "code",
   "execution_count": 23,
   "id": "juvenile-shopping",
   "metadata": {},
   "outputs": [],
   "source": [
    "def test_dict():\n",
    "    assert create_dict([1,2,3],['he','she','li','mi']) == {1: 'he', 2: 'she', 3: 'li'}\n",
    "    assert create_dict([1,2,3,4],['he','she','li','mi']) == {1: 'he', 2: 'she', 3: 'li',4:'mi'}\n",
    "    assert create_dict([1,2,3,4,5],['he','she','li','mi']) == {1: 'he', 2: 'she', 3: 'li',4:'mi',5:None}\n",
    "    \n",
    "    \n",
    "test_dict()"
   ]
  },
  {
   "cell_type": "code",
   "execution_count": null,
   "id": "registered-hepatitis",
   "metadata": {},
   "outputs": [],
   "source": []
  },
  {
   "cell_type": "code",
   "execution_count": 52,
   "id": "sealed-closure",
   "metadata": {},
   "outputs": [],
   "source": [
    "import re\n",
    "\n",
    "\n",
    "\n",
    "def password(mystr):\n",
    "    # The 3 conditions to check (start as False)\n",
    "    lower_letter = False\n",
    "    upper_letter = False\n",
    "    num_end = False\n",
    "    password = mystr\n",
    "    \n",
    "#     password = input(\"Enter your password : \") # may take user input and then check it\n",
    "\n",
    "\n",
    "\n",
    "    lower_letter = any(l.islower() for l in password)  #checking lower char\n",
    "    upper_letter = any(u.isupper() for u in password)  #checking upper char \n",
    "    \n",
    "    # we may or maynot use the alphabets in password, changes can be applied as per requirements\n",
    " \n",
    "    num_end = password[-1].isdigit()     #checking that password end with num\n",
    "    latin_letter = re.findall(r\"[,.!?]\", password)  #using regular expression to find latin char in password\n",
    "     \n",
    "    \n",
    "\n",
    "    # Check if all are True and length of pass as required.\n",
    "    \n",
    "    if not(lower_letter and upper_letter) and 1<=len(password)< 20 and (latin_letter or num_end):  \n",
    "        return True\n",
    "    \n",
    "    # instead od returning true we can print password accepted and Try again if not .\n",
    "        \n",
    "    else:\n",
    "        return False\n",
    "        \n"
   ]
  },
  {
   "cell_type": "code",
   "execution_count": 57,
   "id": "announced-introduction",
   "metadata": {},
   "outputs": [],
   "source": [
    "def test_pass():\n",
    "    \n",
    "    assert password('1234!') == True\n",
    "    assert password('1234!456633') == True\n",
    "    assert password('Rony1234!') == False\n",
    "    assert password('Ronyaerrttg') == False\n",
    "    assert password('1') == True\n",
    "    assert password('!') == True\n",
    "    assert password('!22222222222222222222222222222222222222222222') == False"
   ]
  },
  {
   "cell_type": "code",
   "execution_count": 58,
   "id": "virtual-scanning",
   "metadata": {},
   "outputs": [],
   "source": [
    "test_pass()"
   ]
  },
  {
   "cell_type": "code",
   "execution_count": 4,
   "id": "banned-afternoon",
   "metadata": {},
   "outputs": [
    {
     "name": "stdout",
     "output_type": "stream",
     "text": [
      " IpV4_addresses_1: 66.249.73.135  , frequency :  482 \n",
      "\n",
      " IpV4_addresses_2: 46.105.14.53  , frequency :  364 \n",
      "\n",
      " IpV4_addresses_3: 130.237.218.86  , frequency :  357 \n",
      "\n",
      " IpV4_addresses_4: 75.97.9.59  , frequency :  273 \n",
      "\n",
      " IpV4_addresses_5: 50.16.19.13  , frequency :  113 \n",
      "\n"
     ]
    }
   ],
   "source": [
    "import collections\n",
    "\n",
    "\n",
    "def top_n_ip_add(filename,n):\n",
    "    \n",
    "    mylist = []\n",
    "\n",
    "\n",
    "    with open(filename,'r') as f: #reading logfile \n",
    "        \n",
    "        for line in f:\n",
    "\n",
    "            sep_line = line.split('- -')  #splitting the lines for getting Ipv4 only\n",
    "\n",
    "            mylist.append(sep_line[0])   #appending each ipv4 in an empty list\n",
    "\n",
    "        count = collections.Counter(mylist) #using Counter class from collections to get frequency of ipv4 \n",
    "\n",
    "        sorted_count = sorted(count.items(), key=lambda x: x[1],reverse=True) # sorting dictionary in descending order\n",
    "\n",
    "\n",
    "        total = 1\n",
    "        for k,v in sorted_count:\n",
    "            \n",
    "            print(f\" IpV4_addresses_{total}: {k:10} , frequency : {v:4} \\n\")\n",
    "            \n",
    "            total = total + 1\n",
    "        \n",
    "            if total == n+1:\n",
    "            #n+1 to keep indexing from 1 instead of 0\n",
    "                break\n",
    "                \n",
    "                \n",
    "                 \n",
    "                \n",
    "                \n",
    "                \n",
    "top_n_ip_add('access.log',5) #this is the top 10 ipv4 in an organised way code written is to perform pytest "
   ]
  },
  {
   "cell_type": "code",
   "execution_count": 20,
   "id": "focused-omega",
   "metadata": {},
   "outputs": [
    {
     "data": {
      "text/plain": [
       "('46.105.14.53 ', 364)"
      ]
     },
     "execution_count": 20,
     "metadata": {},
     "output_type": "execute_result"
    }
   ],
   "source": [
    "import collections\n",
    "\n",
    "\n",
    "def top_n_ip_add(filename,n):\n",
    "    \n",
    "    mylist = []\n",
    "\n",
    "\n",
    "    with open(filename,'r') as f: #reading logfile \n",
    "        \n",
    "        for line in f:\n",
    "\n",
    "            sep_line = line.split('- -')  #splitting the lines for getting Ipv4 only\n",
    "\n",
    "            mylist.append(sep_line[0])   #appending each ipv4 in an empty list\n",
    "\n",
    "        count = collections.Counter(mylist) #using Counter class from collections to get frequency of ipv4 \n",
    "\n",
    "        sorted_count = sorted(count.items(), key=lambda x: x[1],reverse=True) # sorting dictionary in descending order\n",
    "\n",
    "\n",
    "        total = 1\n",
    "        for k,v in sorted_count:\n",
    "            \n",
    "#             print(f\" IpV4_addresses_{total}: {k:4} , frequency : {v} \\n\")\n",
    "            \n",
    "            total = total + 1\n",
    "        \n",
    "            if total == n+1:\n",
    "                \n",
    "                return  k,v\n",
    "                 \n",
    "                \n",
    "                \n",
    "                \n",
    "top_n_ip_add('access.log',2)"
   ]
  },
  {
   "cell_type": "code",
   "execution_count": 25,
   "id": "hindu-eating",
   "metadata": {},
   "outputs": [],
   "source": [
    "\n",
    "def test_log():\n",
    "\n",
    "    assert top_n_ip_add('access.log',1) == ('66.249.73.135 ', 482)\n",
    "    assert top_n_ip_add('access.log',4) == ('75.97.9.59 ', 273)\n",
    "    assert top_n_ip_add('access.log',10) == ('198.46.149.143 ', 82)"
   ]
  },
  {
   "cell_type": "code",
   "execution_count": 26,
   "id": "typical-fitness",
   "metadata": {},
   "outputs": [],
   "source": [
    "test_log()"
   ]
  },
  {
   "cell_type": "markdown",
   "id": "talented-coalition",
   "metadata": {},
   "source": [
    "# Thank you"
   ]
  },
  {
   "cell_type": "code",
   "execution_count": null,
   "id": "moved-doctor",
   "metadata": {},
   "outputs": [],
   "source": []
  }
 ],
 "metadata": {
  "kernelspec": {
   "display_name": "Python 3",
   "language": "python",
   "name": "python3"
  },
  "language_info": {
   "codemirror_mode": {
    "name": "ipython",
    "version": 3
   },
   "file_extension": ".py",
   "mimetype": "text/x-python",
   "name": "python",
   "nbconvert_exporter": "python",
   "pygments_lexer": "ipython3",
   "version": "3.8.0"
  }
 },
 "nbformat": 4,
 "nbformat_minor": 5
}
